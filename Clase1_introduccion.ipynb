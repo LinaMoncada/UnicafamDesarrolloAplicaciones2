{
  "nbformat": 4,
  "nbformat_minor": 0,
  "metadata": {
    "colab": {
      "provenance": [],
      "authorship_tag": "ABX9TyM4zEfpNp45i0/3SYyoM4ns",
      "include_colab_link": true
    },
    "kernelspec": {
      "name": "python3",
      "display_name": "Python 3"
    },
    "language_info": {
      "name": "python"
    }
  },
  "cells": [
    {
      "cell_type": "markdown",
      "metadata": {
        "id": "view-in-github",
        "colab_type": "text"
      },
      "source": [
        "<a href=\"https://colab.research.google.com/github/LinaMoncada/UnicafamDesarrolloAplicaciones2/blob/main/Clase1_introduccion.ipynb\" target=\"_parent\"><img src=\"https://colab.research.google.com/assets/colab-badge.svg\" alt=\"Open In Colab\"/></a>"
      ]
    },
    {
      "cell_type": "code",
      "execution_count": 2,
      "metadata": {
        "colab": {
          "base_uri": "https://localhost:8080/",
          "height": 35
        },
        "id": "ND0QvnXhXrK5",
        "outputId": "0bfb7aa6-1809-4bb0-9764-d53673193f80"
      },
      "outputs": [
        {
          "output_type": "execute_result",
          "data": {
            "text/plain": [
              "'Estudiante:Lina Paola Moncada GONZALEZ'"
            ],
            "application/vnd.google.colaboratory.intrinsic+json": {
              "type": "string"
            }
          },
          "metadata": {},
          "execution_count": 2
        }
      ],
      "source": [
        "\"***INTRODUCCION A PYTHON***\"\n",
        "\n",
        "\"Ingenieria en Telecomunicaciones\"\n",
        "\"Facultad de Ingenieria\"\n",
        "\"Unicafam\"\n",
        "\"Docente: Nicolas Mojica\"\n",
        "\"Estudiante:Lina Paola Moncada GONZALEZ\"\n",
        "\n"
      ]
    },
    {
      "cell_type": "code",
      "source": [
        "\"# Este es un comentario de una sola linea\"\n",
        "\" PRINT(\\\"Hola Mundo\\\")\""
      ],
      "metadata": {
        "colab": {
          "base_uri": "https://localhost:8080/",
          "height": 35
        },
        "id": "HnOd9i_Bb8cW",
        "outputId": "580073ab-66fc-4913-f917-476f2a7e029b"
      },
      "execution_count": 1,
      "outputs": [
        {
          "output_type": "execute_result",
          "data": {
            "text/plain": [
              "' PRINT(\"Hola Mundo\")'"
            ],
            "application/vnd.google.colaboratory.intrinsic+json": {
              "type": "string"
            }
          },
          "metadata": {},
          "execution_count": 1
        }
      ]
    },
    {
      "cell_type": "code",
      "source": [
        "\"Hola mundo\""
      ],
      "metadata": {
        "id": "R54DJTI4cZlf"
      },
      "execution_count": null,
      "outputs": []
    },
    {
      "cell_type": "code",
      "source": [
        "\"Este es un comentario\"\n",
        "\"De varias lineas\"\n",
        "\"print(\\\"Aprendiendo Python\\\")\""
      ],
      "metadata": {
        "id": "6Dc7UlM7dLb8"
      },
      "execution_count": null,
      "outputs": []
    },
    {
      "cell_type": "code",
      "source": [
        "\"Nombrar variables en Python debe cumplir las siguientes reglas\"\n",
        "\"1. No se deben usar caracteres especiales\"\n",
        "\"2. No se deben ocupar espacios\"\n",
        "\"3. Las variables son sensibles a las mayusculas y minusculas\"\n",
        "\"hola mundo\"\n",
        "\"var=(Adios mundo)\""
      ],
      "metadata": {
        "colab": {
          "base_uri": "https://localhost:8080/",
          "height": 35
        },
        "id": "bREQrTqzdXTk",
        "outputId": "b8e90b10-020c-497c-8ee4-e1b8d6ee1889"
      },
      "execution_count": 1,
      "outputs": [
        {
          "output_type": "execute_result",
          "data": {
            "text/plain": [
              "'3. Las variables son sensibles a las mayusculas y minusculas'"
            ],
            "application/vnd.google.colaboratory.intrinsic+json": {
              "type": "string"
            }
          },
          "metadata": {},
          "execution_count": 1
        }
      ]
    },
    {
      "cell_type": "code",
      "source": [
        "\"## **TIPOS DE DATOS**\"\n",
        "\"# Numeros\"\n",
        "\"# Los numeros enteros son aquellos que no se expresan con su parte decimal\"\n",
        "\"entero=42\"\n",
        "\"# Los valores flotantes son aquellos que se expresan con su parte decimal\"\n",
        "\"flotante=3.1442\"\n"
      ],
      "metadata": {
        "id": "zkASmoMKebBw"
      },
      "execution_count": 1,
      "outputs": []
    },
    {
      "cell_type": "code",
      "source": [
        "\"#**OPERACIONES ARITMETICAS**\""
      ],
      "metadata": {
        "colab": {
          "base_uri": "https://localhost:8080/",
          "height": 35
        },
        "id": "RUA53E3LfTIu",
        "outputId": "220fc509-daed-4b0c-9759-61c6fedcd474"
      },
      "execution_count": 2,
      "outputs": [
        {
          "output_type": "execute_result",
          "data": {
            "text/plain": [
              "'#**OPERACIONES ARITMETICAS**'"
            ],
            "application/vnd.google.colaboratory.intrinsic+json": {
              "type": "string"
            }
          },
          "metadata": {},
          "execution_count": 2
        }
      ]
    },
    {
      "cell_type": "code",
      "source": [],
      "metadata": {
        "id": "shIk4ghtgjeD"
      },
      "execution_count": 2,
      "outputs": []
    }
  ]
}